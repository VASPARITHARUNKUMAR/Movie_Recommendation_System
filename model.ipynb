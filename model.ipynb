{
 "cells": [
  {
   "cell_type": "code",
   "execution_count": 1,
   "id": "bbb350ce-c4a8-4e19-851b-760d0b9a088b",
   "metadata": {},
   "outputs": [],
   "source": [
    "import pandas as pd\n",
    "import numpy as np\n",
    "import ast\n",
    "import pickle\n",
    "from sklearn.feature_extraction.text import TfidfVectorizer\n",
    "from sklearn.cluster import KMeans"
   ]
  },
  {
   "cell_type": "code",
   "execution_count": 2,
   "id": "50053b8c-5b30-40c7-aa3e-c1094514b7e3",
   "metadata": {},
   "outputs": [],
   "source": [
    "movies = pd.read_csv(\"tmdb_5000_movies.csv\")\n",
    "credits = pd.read_csv(\"tmdb_5000_credits.csv\")\n",
    "\n",
    "# Merge data on title\n",
    "movies = movies.merge(credits, on=\"title\")\n",
    "movies = movies[[\"movie_id\", \"title\", \"overview\", \"genres\", \"keywords\", \"cast\", \"crew\"]]"
   ]
  },
  {
   "cell_type": "code",
   "execution_count": 3,
   "id": "85e47515-826e-490f-b312-a6000062bfc9",
   "metadata": {},
   "outputs": [],
   "source": [
    "def convert(obj):\n",
    "    try:\n",
    "        return [i[\"name\"] for i in ast.literal_eval(obj)]\n",
    "    except:\n",
    "        return []\n",
    "\n",
    "def get_director(obj):\n",
    "    try:\n",
    "        return [i[\"name\"] for i in ast.literal_eval(obj) if i[\"job\"] == \"Director\"]\n",
    "    except:\n",
    "        return []"
   ]
  },
  {
   "cell_type": "code",
   "execution_count": 4,
   "id": "90ddac7e-00cc-4694-95f6-77cf797d03c7",
   "metadata": {},
   "outputs": [],
   "source": [
    "# Apply processing\n",
    "movies[\"genres\"] = movies[\"genres\"].apply(convert)\n",
    "movies[\"keywords\"] = movies[\"keywords\"].apply(convert)\n",
    "movies[\"cast\"] = movies[\"cast\"].apply(lambda x: convert(x)[:3])\n",
    "movies[\"crew\"] = movies[\"crew\"].apply(get_director)\n",
    "movies[\"overview\"] = movies[\"overview\"].fillna(\"\")\n",
    "\n",
    "# Create tags column\n",
    "movies[\"tags\"] = movies[\"overview\"] + \" \" + \\\n",
    "                  movies[\"genres\"].apply(lambda x: \" \".join(x)) + \" \" + \\\n",
    "                  movies[\"keywords\"].apply(lambda x: \" \".join(x)) + \" \" + \\\n",
    "                  movies[\"cast\"].apply(lambda x: \" \".join(x)) + \" \" + \\\n",
    "                  movies[\"crew\"].apply(lambda x: \" \".join(x))\n",
    "\n",
    "movies[\"tags\"] = movies[\"tags\"].str.lower()"
   ]
  },
  {
   "cell_type": "code",
   "execution_count": 5,
   "id": "e66a87ed-17ec-4011-b6a6-bb2144f721c1",
   "metadata": {},
   "outputs": [],
   "source": [
    "# TF-IDF Vectorization\n",
    "tfidf = TfidfVectorizer(max_features=1000, stop_words=\"english\")\n",
    "vectors = tfidf.fit_transform(movies[\"tags\"]).toarray()\n"
   ]
  },
  {
   "cell_type": "code",
   "execution_count": 6,
   "id": "8abe9c18-ac1f-4db2-b1a2-087339da39b6",
   "metadata": {},
   "outputs": [],
   "source": [
    "# KMeans Clustering\n",
    "kmeans = KMeans(n_clusters=20, random_state=42)\n",
    "movies[\"cluster\"] = kmeans.fit_predict(vectors)\n"
   ]
  },
  {
   "cell_type": "code",
   "execution_count": 7,
   "id": "e1d0c51f-da29-41f7-bd12-2a1db99ee405",
   "metadata": {},
   "outputs": [
    {
     "name": "stdout",
     "output_type": "stream",
     "text": [
      "✅ Model and vectorizer saved successfully.\n"
     ]
    }
   ],
   "source": [
    "# Save files\n",
    "with open(\"tfidf_vectorizer.pkl\", \"wb\") as f:\n",
    "    pickle.dump(tfidf, f)\n",
    "\n",
    "with open(\"kmeans_model.pkl\", \"wb\") as f:\n",
    "    pickle.dump(kmeans, f)\n",
    "\n",
    "movies.to_pickle(\"movies_with_clusters.pkl\")\n",
    "\n",
    "print(\"✅ Model and vectorizer saved successfully.\")\n"
   ]
  }
 ],
 "metadata": {
  "kernelspec": {
   "display_name": "Python 3 (ipykernel)",
   "language": "python",
   "name": "python3"
  },
  "language_info": {
   "codemirror_mode": {
    "name": "ipython",
    "version": 3
   },
   "file_extension": ".py",
   "mimetype": "text/x-python",
   "name": "python",
   "nbconvert_exporter": "python",
   "pygments_lexer": "ipython3",
   "version": "3.12.4"
  }
 },
 "nbformat": 4,
 "nbformat_minor": 5
}
